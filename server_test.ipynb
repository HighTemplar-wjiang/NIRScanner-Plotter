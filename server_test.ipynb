{
 "cells": [
  {
   "cell_type": "code",
   "execution_count": null,
   "metadata": {},
   "outputs": [],
   "source": [
    "import time\n",
    "import json\n",
    "import requests\n",
    "import numpy as np\n",
    "import matplotlib.pyplot as plt\n",
    "\n",
    "all_data = []"
   ]
  },
  {
   "cell_type": "code",
   "execution_count": null,
   "metadata": {},
   "outputs": [],
   "source": [
    "# Endpoints.\n",
    "host = \"http://localhost:8000/\"\n",
    "ep_plotter_pixel_size = host + \"plotter/pixelsize\"\n",
    "ep_plotter_state = host + \"plotter/state\"\n",
    "ep_plotter_buffer = host + \"plotter/buffer\"\n",
    "ep_plotter_command = host + \"plotter/write\"\n",
    "ep_nirs_scan = host + \"nirs/scan\"\n",
    "ep_nirs_lamp = host + \"nirs/lamp\"\n",
    "\n",
    "# Methods.\n",
    "def get_plotter_state():\n",
    "    response = requests.get(ep_plotter_state)\n",
    "    if response.ok:\n",
    "        return response.json()\n",
    "    else:\n",
    "        return None\n",
    "\n",
    "def get_plotter_buffer():\n",
    "    response = requests.get(ep_plotter_buffer)\n",
    "    if response.ok:\n",
    "        return response.json()\n",
    "    else:\n",
    "        return None\n",
    "\n",
    "def set_pixel_size(new_value):\n",
    "    requests.post(ep_plotter_pixel_size, data=json.dumps(new_value))\n",
    "    \n",
    "def post_plotter_command(command):\n",
    "    response = requests.post(ep_plotter_command, data=json.dumps({\"command\": command}))\n",
    "    \n",
    "def nirs_scan(num_repeats, pga_gain=0):\n",
    "    \n",
    "    data = {\"num_repeats\": num_repeats}\n",
    "    if pga_gain != 0:\n",
    "        data[\"pga_gain\"] = pga_gain\n",
    "    \n",
    "    response = requests.post(ep_nirs_scan, data=json.dumps(data))\n",
    "    if response.ok:\n",
    "        return response.json()\n",
    "    else:\n",
    "        return None\n",
    "\n",
    "def nirs_keep_lamp_on_off(new_value):\n",
    "    response = requests.post(ep_nirs_lamp, data=json.dumps({\"keep_lamp_on\": new_value}))"
   ]
  },
  {
   "cell_type": "code",
   "execution_count": null,
   "metadata": {},
   "outputs": [],
   "source": [
    "# Utils.\n",
    "def wait_until_idle():\n",
    "    # Check status until plotter is idle.\n",
    "    while True:\n",
    "        state = get_plotter_state()\n",
    "        if state[\"state\"].lower() == \"idle\":\n",
    "            break\n",
    "        else:\n",
    "            time.sleep(0.1)\n",
    "    \n",
    "    time.sleep(0.1)\n",
    "\n",
    "def incremental_move_and_wait(axis, distance_mm, feed=1000):\n",
    "    command = \"G91G21{:1s}{:.2f}F{:d}\\n\".format(axis, distance_mm, feed)\n",
    "    post_plotter_command(command)\n",
    "    time.sleep(0.1)\n",
    "    wait_until_idle()\n",
    "    \n",
    "\n",
    "def linear_move_and_wait(x=None, y=None, feed=1000):\n",
    "    if x is None:\n",
    "        command = \"G1 Y{:.1f} F{:d}\\n\".format(y, feed)\n",
    "    elif y is None:\n",
    "        command = \"G1 X{:.1f} F{:d}\\n\".format(x, feed)\n",
    "    else:\n",
    "        command = \"G1 X{:.1f} Y{:.1f} F{:d}\\n\".format(x, y, feed)\n",
    "        \n",
    "    post_plotter_command(\"G90\\n\")\n",
    "    post_plotter_command(command)\n",
    "    time.sleep(0.1)\n",
    "    wait_until_idle()"
   ]
  },
  {
   "cell_type": "code",
   "execution_count": null,
   "metadata": {},
   "outputs": [],
   "source": [
    "# Unlock XY-plotter.\n",
    "post_plotter_command(\"$X\\n\")\n",
    "time.sleep(1)\n",
    "\n",
    "# Test movement.\n",
    "incremental_move_and_wait(\"X\", 10)\n",
    "incremental_move_and_wait(\"X\", -10)\n",
    "incremental_move_and_wait(\"Y\", 10)\n",
    "linear_move_and_wait(4.0, 3.0)\n",
    "linear_move_and_wait(0.0, 0.0)"
   ]
  },
  {
   "cell_type": "code",
   "execution_count": null,
   "metadata": {},
   "outputs": [],
   "source": [
    "# Test scan & move. \n",
    "post_plotter_command(\"$X\\n\")\n",
    "nirs_result = nirs_scan(6)\n",
    "incremental_move_and_wait(\"X\", 1.0)\n",
    "linear_move_and_wait(0.0, 0.0)"
   ]
  },
  {
   "cell_type": "code",
   "execution_count": null,
   "metadata": {},
   "outputs": [],
   "source": [
    "requests.post(\"http://localhost:8000/nirs/clearerror\")"
   ]
  },
  {
   "cell_type": "code",
   "execution_count": null,
   "metadata": {},
   "outputs": [],
   "source": [
    "# Plotting.\n",
    "data = nirs_result[\"data\"]\n",
    "\n",
    "fig, ax = plt.subplots()\n",
    "temperature_detector = data[\"temperature_detector\"]\n",
    "wavelength = data[\"wavelength\"]\n",
    "spectrum = data[\"intensity\"]\n",
    "print(data[\"pga\"], end=\" \")\n",
    "print(temperature_detector, end=\" \")\n",
    "print(np.mean(spectrum[:]))\n",
    "ax.plot(wavelength, spectrum)"
   ]
  },
  {
   "cell_type": "code",
   "execution_count": null,
   "metadata": {},
   "outputs": [],
   "source": []
  }
 ],
 "metadata": {
  "kernelspec": {
   "display_name": "Python 3",
   "language": "python",
   "name": "python3"
  },
  "language_info": {
   "codemirror_mode": {
    "name": "ipython",
    "version": 3
   },
   "file_extension": ".py",
   "mimetype": "text/x-python",
   "name": "python",
   "nbconvert_exporter": "python",
   "pygments_lexer": "ipython3",
   "version": "3.6.9"
  }
 },
 "nbformat": 4,
 "nbformat_minor": 4
}
